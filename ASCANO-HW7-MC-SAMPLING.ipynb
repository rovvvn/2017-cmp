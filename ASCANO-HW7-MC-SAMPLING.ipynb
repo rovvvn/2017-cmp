{
 "cells": [
  {
   "cell_type": "markdown",
   "metadata": {},
   "source": [
    "# HW 7 - Monte Carlo"
   ]
  },
  {
   "cell_type": "markdown",
   "metadata": {},
   "source": [
    "## Importance Sampling\n",
    "Calculate a value for the integral\n",
    "\n",
    "$ I = \\int_0 ^1 \\frac{x^{-1/2}}{e^x + 1} dx $\n",
    "\n",
    "using the importance sampling method with $w(x) = x^{-1/2}$, with 1,000,000 random points."
   ]
  },
  {
   "cell_type": "code",
   "execution_count": 14,
   "metadata": {},
   "outputs": [],
   "source": [
    "# Ronaldo Ascano\n",
    "# due 10.17.18\n",
    "\n",
    "# import necessary libraries\n",
    "import numpy as np\n",
    "import matplotlib.pyplot as plt\n",
    "from scipy.integrate import quad, quadrature\n",
    "from scipy import integrate\n",
    "from numba import jit\n",
    "import random\n",
    "\n",
    "# resize figure and font\n",
    "plt.rcParams['figure.figsize'] = (15,10)\n",
    "plt.rcParams.update({'font.size': 15})"
   ]
  },
  {
   "cell_type": "code",
   "execution_count": 2,
   "metadata": {},
   "outputs": [],
   "source": [
    "@jit\n",
    "def Simpson_Rule(a, b, n, plot=1):\n",
    "\n",
    "    h = lambda x: 1/np.sqrt(x)/(np.exp(x)+1)\n",
    "\n",
    "    base = (b - a) / n\n",
    "    results_x = np.linspace(a, b, n+1)\n",
    "    height = h(results_x)\n",
    "    area = np.empty([n+1], float)\n",
    "    \n",
    "    for i in range(n+1):\n",
    "        \n",
    "        # determines coefficients for each ith entry\n",
    "        if i == 0 or i == n:\n",
    "            coef = 1/3               # if i is the first and last then coef=1/3\n",
    "        elif i%2 == 1:\n",
    "            coef = 4/3               # if i is divisible by 2 then coef=4/3\n",
    "        else: \n",
    "            coef = 2/3               # else if i is odd then coef=2/3\n",
    "            \n",
    "        area[i] = coef*height[i]*base\n",
    "                \n",
    "    if plot == 1:\n",
    "        \n",
    "        x = np.linspace(a, b, n)\n",
    "        output_y = h(x)\n",
    "        plt.plot(x, output_y, 'r')\n",
    "        plt.xlabel('x')\n",
    "        plt.ylabel('f(x)')\n",
    "        plt.xlim([a,b])\n",
    "        y2 = np.array([0,0])\n",
    "        \n",
    "        for i in range(n):\n",
    "            \n",
    "            x0 = results_x[i:i+2]\n",
    "            y1 = height[i:i+2]\n",
    "            plt.fill_between(x0, y1, y2, where=y1>=y2, facecolor='yellow')\n",
    "            linex, liney = [results_x[i+1], results_x[i+1]], [0, height[i+1]]\n",
    "            plt.plot(linex, liney, color='black', linewidth=2.0)\n",
    "            plt.title(\"Simpson's Rule\")\n",
    "        plt.show\n",
    "        print(\"Area using Simpson's rule: \", sum(area))\n",
    "\n",
    "\n",
    "            \n",
    "    return sum(area)"
   ]
  },
  {
   "cell_type": "code",
   "execution_count": 15,
   "metadata": {},
   "outputs": [
    {
     "name": "stdout",
     "output_type": "stream",
     "text": [
      "Area using Simpson's rule:  inf\n"
     ]
    },
    {
     "name": "stderr",
     "output_type": "stream",
     "text": [
      "/Users/ronascano/miniconda3/lib/python3.6/site-packages/ipykernel_launcher.py:1: RuntimeWarning: divide by zero encountered in true_divide\n",
      "  \"\"\"Entry point for launching an IPython kernel.\n"
     ]
    },
    {
     "data": {
      "text/plain": [
       "inf"
      ]
     },
     "execution_count": 15,
     "metadata": {},
     "output_type": "execute_result"
    },
    {
     "data": {
      "image/png": "[encoded data removed]",
      "text/plain": [
       "<Figure size 1080x720 with 1 Axes>"
      ]
     },
     "metadata": {},
     "output_type": "display_data"
    }
   ],
   "source": [
    "Simpson_Rule(0,1,100)"
   ]
  },
  {
   "cell_type": "markdown",
   "metadata": {},
   "source": [
    "### Above, we cannot calculate the area because of its divergence.\n",
    "\n",
    "### Below, we will use importance sampling to avoid the divergence error."
   ]
  },
  {
   "cell_type": "code",
   "execution_count": 4,
   "metadata": {},
   "outputs": [
    {
     "name": "stdout",
     "output_type": "stream",
     "text": [
      "From scipy: 0.8389329600133838\n",
      "\n"
     ]
    }
   ],
   "source": [
    "f = lambda x: 1/np.sqrt(x)/(np.exp(x)+1)\n",
    "\n",
    "integrate_f = integrate.quad(f,0,1)[0]\n",
    "\n",
    "print('From scipy:', integrate_f)\n",
    "print('')"
   ]
  },
  {
   "cell_type": "code",
   "execution_count": 5,
   "metadata": {},
   "outputs": [
    {
     "name": "stdout",
     "output_type": "stream",
     "text": [
      "Area using importance sampling:  0.838944940677381\n",
      "\n"
     ]
    }
   ],
   "source": [
    "w = lambda x: 1/np.sqrt(x)        # weight function\n",
    "\n",
    "p = lambda x: 1/2*np.sqrt(x)      # probability function\n",
    "\n",
    "c = lambda x: np.sqrt(x)          # cumulative function\n",
    "inverse_c = lambda x: x**2        # inverse cumulative function\n",
    "\n",
    "integrate_w = integrate.quad(w,0,1)[0]\n",
    "\n",
    "sum_of_ratios = []\n",
    "\n",
    "@jit\n",
    "def importance_sampler(N):\n",
    "    \n",
    "    for i in range(N):                         # up to N random points\n",
    "        x = random.random()\n",
    "        y = inverse_c(x)\n",
    "        sum_of_ratios.append(f(y)/w(y))\n",
    "\n",
    "    I = (sum(sum_of_ratios)*integrate_w)/N\n",
    "\n",
    "    return I\n",
    "\n",
    "print('Area using importance sampling: ', importance_sampler(1000000))\n",
    "print('')\n",
    "#print(integrate_w)\n",
    "\n",
    "# which do you trust more scipy or importance sampling?"
   ]
  },
  {
   "cell_type": "code",
   "execution_count": 6,
   "metadata": {},
   "outputs": [
    {
     "data": {
      "text/plain": [
       "<matplotlib.legend.Legend at 0x151853ce10>"
      ]
     },
     "execution_count": 6,
     "metadata": {},
     "output_type": "execute_result"
    },
    {
     "data": {
      "image/png": "[encoded data removed]",
      "text/plain": [
       "<Figure size 432x288 with 1 Axes>"
      ]
     },
     "metadata": {},
     "output_type": "display_data"
    }
   ],
   "source": [
    "x = np.linspace(0.01,1,100)\n",
    "\n",
    "plt.plot(x,f(x), label='f(x)')\n",
    "plt.plot(x,w(x), label='w(x)')\n",
    "plt.legend()"
   ]
  },
  {
   "cell_type": "markdown",
   "metadata": {},
   "source": [
    "# Monte Carlo Integration"
   ]
  },
  {
   "cell_type": "markdown",
   "metadata": {},
   "source": [
    "1. Monte Carlo Integral:\n",
    "\n",
    "   Calculate the area shaded in green.\n",
    "\n",
    "\n",
    "2. Error Analysis:\n",
    "\n",
    "   Try to do the integral many times (100) for different $N$ values (100, 1000, 10000, 100000), collect the data and      calculate its standard variance."
   ]
  },
  {
   "cell_type": "code",
   "execution_count": 16,
   "metadata": {},
   "outputs": [
    {
     "data": {
      "image/png": "[encoded data removed]",
      "text/plain": [
       "<Figure size 1080x720 with 1 Axes>"
      ]
     },
     "metadata": {},
     "output_type": "display_data"
    }
   ],
   "source": [
    "# From Prof Zhu's Repo\n",
    "\n",
    "import matplotlib.pyplot as plt\n",
    "import numpy as np\n",
    "\n",
    "fig1 = plt.figure()\n",
    "ax1 = fig1.add_subplot(111, aspect='equal')\n",
    "\n",
    "x1 = np.linspace(0,2,100)\n",
    "y1 = np.sqrt(1-(x1-1)**2)\n",
    "ax1.plot(x1,y1,'k')\n",
    "\n",
    "y2 = 2-np.sqrt(4-x1**2)\n",
    "ax1.plot(x1,y2,'k')\n",
    "\n",
    "ax1.set_xlim(0,2)\n",
    "ax1.set_ylim(0,2)\n",
    "ax1.fill_between(x1, y1, y2, where=y1>y2, facecolor='green')\n",
    "\n",
    "plt.show()"
   ]
  },
  {
   "cell_type": "code",
   "execution_count": 8,
   "metadata": {},
   "outputs": [],
   "source": [
    "# define functions\n",
    "def J(x):\n",
    "    return np.sqrt(1-(x-1)**2)\n",
    "def K(x):\n",
    "    return 2-np.sqrt(4-x**2)\n",
    "\n",
    "# try scipy integrate to find area (find intersection: x=1.6)\n",
    "integrate_J = integrate.quad(J,0,1.6)[0]\n",
    "integrate_K = integrate.quad(K,0,1.6)[0]\n",
    "\n",
    "# Area = area of top function - area of bottom function\n",
    "Area = integrate_J - integrate_K"
   ]
  },
  {
   "cell_type": "code",
   "execution_count": 9,
   "metadata": {},
   "outputs": [
    {
     "name": "stdout",
     "output_type": "stream",
     "text": [
      "Area of the shaded green using scipy:  0.9617391537973146\n"
     ]
    }
   ],
   "source": [
    "print('Area of the shaded green using scipy: ', Area)"
   ]
  },
  {
   "cell_type": "markdown",
   "metadata": {},
   "source": [
    "## Using MONTE CARLO INTEGRATION"
   ]
  },
  {
   "cell_type": "code",
   "execution_count": 31,
   "metadata": {},
   "outputs": [],
   "source": [
    "@jit\n",
    "def MC(N):\n",
    "    count = 0\n",
    "    for i in range(N):\n",
    "        x = 2*random.random()\n",
    "        y = random.random()\n",
    "        if K(x) < y < J(x):\n",
    "            count += 1\n",
    "    I = 2*count/N\n",
    "    return I\n",
    "\n",
    "#def MC2(N):\n",
    "#    I = 0\n",
    "#    for i in range(N):\n",
    "#        x = 2*random.random()\n",
    "#       I += K(x)/J(x)\n",
    "              \n",
    "#    return I/N*2"
   ]
  },
  {
   "cell_type": "code",
   "execution_count": 32,
   "metadata": {},
   "outputs": [
    {
     "name": "stdout",
     "output_type": "stream",
     "text": [
      "Area using MC at N=100:  1.08\n",
      "Area using MC at N=1000:  0.972\n",
      "Area using MC at N=10000:  0.9662\n",
      "Area using MC at N=100000:  0.96164\n",
      "\n",
      "1.947708323485899\n",
      "1.915987250018721\n",
      "1.5140418950023373\n",
      "1.643267347929992\n"
     ]
    }
   ],
   "source": [
    "print('Area using MC at N=100: ', MC(100))\n",
    "print('Area using MC at N=1000: ', MC(1000))\n",
    "print('Area using MC at N=10000: ', MC(10000))\n",
    "print('Area using MC at N=100000: ', MC(100000))\n",
    "print('')\n",
    "#print(MC2(100))\n",
    "#print(MC2(1000))\n",
    "#print(MC2(1000))\n",
    "#print(MC2(10000))"
   ]
  },
  {
   "cell_type": "markdown",
   "metadata": {},
   "source": [
    "## Error Analysis"
   ]
  },
  {
   "cell_type": "code",
   "execution_count": 12,
   "metadata": {},
   "outputs": [],
   "source": [
    "# create list containing different N values\n",
    "N_values = [100,1000,10000,100000]\n",
    "arealist = []\n",
    "\n",
    "\n",
    "# generate 100 samples (using different N-values) to calculate the area, and put into list\n",
    "@jit\n",
    "def MC_stat(Nsamples):\n",
    "    \n",
    "    for i in range(Nsamples+1):\n",
    "        random_N = random.choice(N_values)          # random.choice(mylist) pick random element from list\n",
    "        arealist.append(MC(random_N))\n",
    "        #print(random_N)\n",
    "    \n",
    "    #print(arealist)\n",
    "    var = np.var(arealist)\n",
    "    std = np.std(arealist)\n",
    "    avg = np.mean(arealist)\n",
    "    \n",
    "    print('Variance: ', var)\n",
    "    print('Deviation: ', std)\n",
    "    print('Average Area: ', avg)\n",
    "        \n",
    "    return arealist[-24:-1]\n",
    "\n",
    "# display variance, deviation, mean"
   ]
  },
  {
   "cell_type": "code",
   "execution_count": 13,
   "metadata": {},
   "outputs": [
    {
     "name": "stdout",
     "output_type": "stream",
     "text": [
      "Variance:  0.0026749283059307907\n",
      "Deviation:  0.051719709066571425\n",
      "Average Area:  0.9595900990099008\n"
     ]
    },
    {
     "data": {
      "text/plain": [
       "[0.94,\n",
       " 0.99,\n",
       " 0.953,\n",
       " 0.994,\n",
       " 1.06,\n",
       " 0.972,\n",
       " 0.92,\n",
       " 1.0,\n",
       " 1.02,\n",
       " 0.963,\n",
       " 0.9636,\n",
       " 0.95966,\n",
       " 0.9672,\n",
       " 0.974,\n",
       " 0.998,\n",
       " 0.9628,\n",
       " 0.9484,\n",
       " 0.9565,\n",
       " 0.918,\n",
       " 0.98,\n",
       " 0.96292,\n",
       " 1.014,\n",
       " 0.92]"
      ]
     },
     "execution_count": 13,
     "metadata": {},
     "output_type": "execute_result"
    }
   ],
   "source": [
    "MC_stat(100)"
   ]
  },
  {
   "cell_type": "markdown",
   "metadata": {},
   "source": [
    "## The variance is quite low meaning the data is not spread apart. Also, the mean area using MC is close to the scipy-calculated area. Thus, the Monte Carlo integration method should become even more accurate with larger amount of sample areas in the list/array."
   ]
  }
 ],
 "metadata": {
  "kernelspec": {
   "display_name": "Python 3",
   "language": "python",
   "name": "python3"
  },
  "language_info": {
   "codemirror_mode": {
    "name": "ipython",
    "version": 3
   },
   "file_extension": ".py",
   "mimetype": "text/x-python",
   "name": "python",
   "nbconvert_exporter": "python",
   "pygments_lexer": "ipython3",
   "version": "3.6.5"
  }
 },
 "nbformat": 4,
 "nbformat_minor": 2
}
