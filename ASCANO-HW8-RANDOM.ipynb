{
 "cells": [
  {
   "cell_type": "markdown",
   "metadata": {},
   "source": [
    "# HW 8 - Random Numbers"
   ]
  },
  {
   "cell_type": "markdown",
   "metadata": {},
   "source": [
    "a) Write a program that generates and prints out two random numbers between 1 and 6, to simulate the rolling of two dice.\n",
    "\n",
    "\n",
    "b) Modify your program to simulate the rolling of two dice a million times (N0) and count the number of times you get double six (N1). Calculate the probability of finding double six in your simulations (N1/N0)\n"
   ]
  },
  {
   "cell_type": "code",
   "execution_count": 193,
   "metadata": {},
   "outputs": [
    {
     "name": "stdout",
     "output_type": "stream",
     "text": [
      "The probability of landing double 6s when rolling a pair of dice out of a million times is: 0.027895\n"
     ]
    }
   ],
   "source": [
    "# Ascano, Ronaldo\n",
    "# due 10.24.18\n",
    "\n",
    "import numpy as np\n",
    "from numba import jit\n",
    "import random\n",
    "import matplotlib.pyplot as plt\n",
    "\n",
    "@jit\n",
    "def dice_roll_prob_simulator(N0):     # where N0 is the number of dice rolls we want to simulate\n",
    "    \n",
    "    N1 = 0                            # where N1 is the number of double 6s\n",
    "    \n",
    "    for i in range(N0+1):  \n",
    "        \n",
    "        np.random.seed(i)\n",
    "        pair_of_dice_values = np.random.randint(1,7,2)          # generates 2 random numbers between 1-6\n",
    "        \n",
    "        if sum(pair_of_dice_values) == 12:\n",
    "            N1 += 1\n",
    "        \n",
    "    P = N1/N0\n",
    "        \n",
    "    return P\n",
    "    \n",
    "print('The probability of landing double 6s when rolling a pair of dice out of a million times is:',\n",
    "      dice_roll_prob_simulator(1000000))"
   ]
  },
  {
   "cell_type": "markdown",
   "metadata": {},
   "source": [
    "----------------------------------------------------------------------------------------------------------------------\n",
    "----------------------------------------------------------------------------------------------------------------------\n",
    "c) Write a code to generate random integers within [-5, 5], find the magic series of {a, c, m} [Don't use the built-in function in numpy]"
   ]
  },
  {
   "cell_type": "code",
   "execution_count": 79,
   "metadata": {},
   "outputs": [
    {
     "name": "stdout",
     "output_type": "stream",
     "text": [
      "0\n",
      "0\n",
      "3\n",
      "5\n",
      "5\n",
      "-2\n",
      "5\n",
      "-1\n",
      "-2\n",
      "0\n",
      "4\n",
      "4\n",
      "1\n",
      "-3\n",
      "3\n",
      "3\n",
      "4\n",
      "-4\n",
      "5\n",
      "0\n",
      "-2\n",
      "4\n",
      "0\n",
      "-2\n",
      "-3\n",
      "-1\n",
      "0\n",
      "-2\n",
      "-4\n",
      "0\n",
      "0\n",
      "-3\n",
      "2\n",
      "-1\n",
      "-4\n",
      "4\n",
      "0\n",
      "0\n",
      "-4\n",
      "4\n",
      "1\n",
      "-5\n",
      "1\n",
      "-1\n",
      "-1\n",
      "-2\n",
      "0\n",
      "2\n",
      "-5\n",
      "5\n"
     ]
    }
   ],
   "source": [
    "# numpy way\n",
    "\n",
    "for j in range(50):\n",
    "    np.random.seed(j)\n",
    "    a = np.random.randint(-5,6)\n",
    "    print(a)"
   ]
  },
  {
   "cell_type": "code",
   "execution_count": 219,
   "metadata": {},
   "outputs": [
    {
     "name": "stdout",
     "output_type": "stream",
     "text": [
      "[2, 3, 4, -5, 0, -1, -2, -3, 4, -5, 0, -1, 2, 3, -4, -5, 0, 1, 2, 3, -4, -5, 0, -1, -2, -3, -4, 5, 0, -1, -2, -3, 4, -5, 0, 1, -2, -3, -4, 5, 0, -1, 2, -3, 4, 5, 0, 1, -2, -3, -4, -5, 0, 1, 2, 3, -4, 5, 0, -1, 2, 3, 4, 5, 0, -1, -2, -3, 4, -5, 0, -1, 2, -3, 4, 5, 0, 1, 2, 3, 4, 5, 0, 1, -2, -3, 4, -5, 0, 1, -2, 3, 4, 5, 0, -1, 2, 3, 4, -5, 0, -1, -2, -3, -4, 5, 0, -1, 2, -3, 4, 5, 0, 1, -2, 3, 4, 5, 0, 1, 2, -3, -4, 5, 0, -1, -2, 3, 4, 5, 0, 1, -2, 3, -4, 5, 0, 1, 2, -3, -4, -5, 0, 1, -2, 3, 4, 5, 0, 1, 2]\n"
     ]
    },
    {
     "data": {
      "image/png": "[encoded data removed]",
      "text/plain": [
       "<Figure size 432x288 with 1 Axes>"
      ]
     },
     "metadata": {},
     "output_type": "display_data"
    },
    {
     "data": {
      "image/png": "[encoded data removed]",
      "text/plain": [
       "<Figure size 432x288 with 1 Axes>"
      ]
     },
     "metadata": {},
     "output_type": "display_data"
    }
   ],
   "source": [
    "# non-numpy way\n",
    "# linear congruential random number generator\n",
    "\n",
    "N = 100\n",
    "a = 7**100\n",
    "c = 1\n",
    "m = 6\n",
    "x = 13\n",
    "results = []\n",
    "\n",
    "for i in range(N+1):      \n",
    "    x = (a*x+c)%m\n",
    "    results.append(x)\n",
    "    results[:] = [random.choice([-1,1])*x for x in results]     #randomly multiplies 1 or -1 to array elements\n",
    "    \n",
    "print(results)    \n",
    "plt.plot(results,\"o\")\n",
    "plt.show()\n",
    "\n",
    "plt.hist(results, bins=50)\n",
    "plt.show()"
   ]
  },
  {
   "cell_type": "code",
   "execution_count": 202,
   "metadata": {},
   "outputs": [],
   "source": [
    "# non-numpy way\n",
    "# using 'random.choice'\n",
    "\n",
    "array = [-5,-4,-3,-2,-1,0,1,2,3,4,5]\n",
    "\n",
    "random_array = []\n",
    "\n",
    "\n",
    "def generate_random_numbers_between_neg5_to_pos5(M):\n",
    "    \n",
    "    for i in range(M):\n",
    "        random_pick = random.choice(array)\n",
    "        random_array.append(random_pick)\n",
    "    \n",
    "    plt.plot(random_array,\"o\")\n",
    "    plt.show()\n",
    "\n",
    "    plt.hist(random_array, bins=50)\n",
    "    plt.show()\n",
    "    \n",
    "    return random_array"
   ]
  },
  {
   "cell_type": "code",
   "execution_count": 222,
   "metadata": {},
   "outputs": [
    {
     "data": {
      "image/png": "[encoded data removed]",
      "text/plain": [
       "<Figure size 432x288 with 1 Axes>"
      ]
     },
     "metadata": {},
     "output_type": "display_data"
    },
    {
     "data": {
      "image/png": "[encoded data removed]",
      "text/plain": [
       "<Figure size 432x288 with 1 Axes>"
      ]
     },
     "metadata": {},
     "output_type": "display_data"
    },
    {
     "name": "stdout",
     "output_type": "stream",
     "text": [
      "[3, 0, -4, -3, -2, -5, -5, -4, 1, 4, 2, -2, 2, -5, -4, -5, 4, -3, 1, 2, 2, -3, -1, -4, -4, 1, 1, 3, 2, -4, 3, 2, -5, -4, -4, 0, 5, 4, 0, 3, 2, -4, -3, 1, 3, 3, -3, -4, 5, 5, 4, -5, 0, 1, 4, -4, -5, -3, -5, -5, -3, 0, -1, 2, 3, -5, -3, 0, -5, 2, 3, -5, 3, 5, -2, -3, 2, 1, -4, 5, -5, -1, -4, 0, -3, -4, -3, -4, 1, 5, 2, -1, 2, -3, 3, -3, 5, -5, 2, 2, -5, 0, 2, 4, 5, -5, -3, 3, 3, -5, -4, 3, 1, 3, 2, -4, -1, 0, 5, -5, -2, -5, 4, 4, -4, 2, 3, -5, -4, -4, -3, -3, -4, 0, 2, -2, 1, -5, -3, 4, 4, -5, 3, -3, 5, 5, -4, 1, -3, 2, -1, 0, 4, 0, -2, -1, -5, 4, -1, -2, 0, -4, 5, -2, 4, 4, 0, 0, 3, -5, 1, -4, 4, -1, -4, 1, -5, -3, -2, 2, 0, 3, -4, -3, -2, -3, 1, 4, 2, 4, -2, 4, 3, -2, -3, -3, -5, 1, 2, -1, 1, 5, -2, 1, 0, 2, 1, 0, -5, -3, -3, -5, -3, 1, -1, -4, -2, 2, 3, 2, 5, -5, 5, 1, 4, 5, 3, -5, -5, 2, 4, -5, 1, -3, 5, 1, 0, 5, -5, -5, 4, -3, 2, 3, -2, 1, -1, -5, -4, 0, 5, 0, 1, -3, -5, 0, -3, -2, 5, -5, -3, 4, 5, 4, 0, -2, -5, -3, 2, 4, -4, -1, 2, 2, 0, 5, -4, -5, -1, 4, 1, 1, 1, 4, -4, 5, -1, 5, -4, 3, 5, -1, -5, 0, -5, 5, -2, 0, 1, -5, 3, 0, 2, 1, -2, -4, 3, 3, -1, -3, -2, -3, -2, 3, 5, -4, -3, 4, 5, 2, 2, -1, 5, 2, 5, 2, -1, -4, 1, -5, -4, -1, -1, -3, 3, -1, 2, 1, -1, -5, 0, -5, -1, 1, -3, 2, -3, -3, 1, 0, 2, -3, 5, 2, 0, 4, -4, 3, -2, 5, 5, -2, 0, -4, -5, 3, -1, 3, 0, 1, -4, 3, -3, 3, -1, -1, 5, -3, -5, -5, 4, 1, -1, -4, 1, -1, -5, -1, -5, 0, 1, -4, -3, 0, 4, -5, 5, 3, 1, 4, 3, 4, 3, -1, -5, -1, 3, 4, 1, 2, -2, 3, -4, 2, 2, 2, -4, 4, -1, -2, 3, -4, -4, 1, 0, -2, 4, -1, 0, 4, 5, -4, 0, -3, 4, -1, -2, -4, 0, -2, -4, -2, -5, 3, 1, 5, 2, -1, -2, 4, -1, -3, 5, -5, -4, 0, -3, -3, 4, -5, 0, 3, 1, -5, 3, -4, 1, 0, 0, 0, 2, 2, 5, -2, -4, -4, -3, 5, 2, 2, 1, 0, 3, 3, -3, -1, -3, -2, 2, 5, 1, -3, -3, -3, -4, 2, -1, -3, -3, 4]\n"
     ]
    }
   ],
   "source": [
    "print(generate_random_numbers_between_neg5_to_pos5(100))"
   ]
  },
  {
   "cell_type": "code",
   "execution_count": null,
   "metadata": {},
   "outputs": [],
   "source": []
  }
 ],
 "metadata": {
  "kernelspec": {
   "display_name": "Python 3",
   "language": "python",
   "name": "python3"
  },
  "language_info": {
   "codemirror_mode": {
    "name": "ipython",
    "version": 3
   },
   "file_extension": ".py",
   "mimetype": "text/x-python",
   "name": "python",
   "nbconvert_exporter": "python",
   "pygments_lexer": "ipython3",
   "version": "3.6.5"
  }
 },
 "nbformat": 4,
 "nbformat_minor": 2
}
