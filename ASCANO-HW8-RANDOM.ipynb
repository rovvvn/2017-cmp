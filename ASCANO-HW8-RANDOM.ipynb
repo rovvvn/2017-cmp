{
 "cells": [
  {
   "cell_type": "markdown",
   "metadata": {},
   "source": [
    "# HW 8 - Random Numbers"
   ]
  },
  {
   "cell_type": "markdown",
   "metadata": {},
   "source": [
    "a) Write a program that generates and prints out two random numbers between 1 and 6, to simulate the rolling of two dice.\n",
    "\n",
    "\n",
    "b) Modify your program to simulate the rolling of two dice a million times (N0) and count the number of times you get double six (N1). Calculate the probability of finding double six in your simulations (N1/N0)\n"
   ]
  },
  {
   "cell_type": "code",
   "execution_count": 329,
   "metadata": {},
   "outputs": [],
   "source": [
    "# Ascano, Ronaldo\n",
    "# due 10.24.18\n",
    "\n",
    "import numpy as np\n",
    "from numba import jit\n",
    "import random\n",
    "import matplotlib.pyplot as plt\n",
    "\n",
    "# this program will simulate rolling a pair of dice N times and will count\n",
    "# how many double 6s are rolled to calculate its probability.\n",
    "\n",
    "@jit\n",
    "def dice_roll_prob_simulator(N0):     # where N0 is the number of dice rolls we want to simulate\n",
    "    \n",
    "    N1 = 0                            # where N1 is the number of double 6s\n",
    "    \n",
    "    for i in range(N0+1):  \n",
    "        \n",
    "        np.random.seed(i)\n",
    "        pair_of_dice_values = np.random.randint(1,7,2)          # generates 2 random numbers between 1-6\n",
    "        \n",
    "        if sum(pair_of_dice_values) == 12:\n",
    "            N1 += 1\n",
    "        \n",
    "    P = N1/N0\n",
    "        \n",
    "    return P"
   ]
  },
  {
   "cell_type": "code",
   "execution_count": 330,
   "metadata": {},
   "outputs": [
    {
     "name": "stdout",
     "output_type": "stream",
     "text": [
      "The probability of landing double 6s out of a million dice rolls is: 0.027895\n"
     ]
    }
   ],
   "source": [
    "print('The probability of landing double 6s out of a million dice rolls is:',\n",
    "      dice_roll_prob_simulator(1000000))"
   ]
  },
  {
   "cell_type": "markdown",
   "metadata": {},
   "source": [
    "----------------------------------------------------------------------------------------------------------------------\n",
    "----------------------------------------------------------------------------------------------------------------------\n",
    "c) Write a code to generate random integers within [-5, 5], find the magic series of {a, c, m} [Don't use the built-in function in numpy]"
   ]
  },
  {
   "cell_type": "code",
   "execution_count": 262,
   "metadata": {},
   "outputs": [
    {
     "name": "stdout",
     "output_type": "stream",
     "text": [
      "0, 0, 3, 5, 5, -2, 5, -1, -2, 0, 4, 4, 1, -3, 3, 3, 4, -4, 5, 0, -2, 4, 0, -2, -3, -1, 0, -2, -4, 0, 0, -3, 2, -1, -4, 4, 0, 0, -4, 4, 1, -5, 1, -1, -1, -2, 0, 2, -5, 5, "
     ]
    }
   ],
   "source": [
    "# numpy way\n",
    "\n",
    "for j in range(50):\n",
    "    np.random.seed(j)\n",
    "    a = np.random.randint(-5,6)\n",
    "    print(a, end=', ')"
   ]
  },
  {
   "cell_type": "code",
   "execution_count": 324,
   "metadata": {
    "scrolled": false
   },
   "outputs": [],
   "source": [
    "# non-numpy way\n",
    "# linear congruential random number generator\n",
    "\n",
    "\n",
    "def uniform_random_number_generator(N):\n",
    "    \n",
    "    results = []\n",
    "    a = 7**143\n",
    "    c = 1\n",
    "    m = 6\n",
    "    x = 2\n",
    "\n",
    "    for i in range(N):      \n",
    "        x = (a*x+c)%m\n",
    "        results.append(x)\n",
    "        results[:] = [random.choice([-1,1])*x for x in results]     #randomly multiplies 1 or -1 to array elements\n",
    "        \n",
    "    random.shuffle(results)\n",
    "    plt.plot(results,\"o\")\n",
    "    plt.show()\n",
    "\n",
    "    plt.hist(results, bins=50)\n",
    "    plt.show()\n",
    "    \n",
    "    return len(results), results"
   ]
  },
  {
   "cell_type": "code",
   "execution_count": 325,
   "metadata": {
    "scrolled": false
   },
   "outputs": [
    {
     "data": {
      "image/png": "[encoded data removed]",
      "text/plain": [
       "<Figure size 432x288 with 1 Axes>"
      ]
     },
     "metadata": {},
     "output_type": "display_data"
    },
    {
     "data": {
      "image/png": "[encoded data removed]",
      "text/plain": [
       "<Figure size 432x288 with 1 Axes>"
      ]
     },
     "metadata": {},
     "output_type": "display_data"
    },
    {
     "name": "stdout",
     "output_type": "stream",
     "text": [
      "(100, [-4, 0, -1, 1, 2, 3, -1, 1, 5, -4, -3, 0, 0, -3, 5, 1, 4, 3, -3, 4, 3, 4, 4, -1, -3, 5, 0, 4, -2, -4, -2, -3, 4, -5, 5, -1, -5, 0, -2, 2, 2, -2, 4, -2, -5, 1, 0, -5, -1, 0, 0, 1, 3, 0, 1, -4, -3, 5, 0, 0, -3, -5, 5, 3, 0, -5, -5, -2, -3, 5, 4, -2, -4, -4, -5, 0, -1, 0, 2, 0, -5, 2, -3, 5, -3, 1, 2, -2, 3, -1, -4, -1, -3, 0, -4, 0, -4, -2, -1, -2])\n"
     ]
    }
   ],
   "source": [
    "print(uniform_random_number_generator(100))"
   ]
  },
  {
   "cell_type": "code",
   "execution_count": 327,
   "metadata": {},
   "outputs": [],
   "source": [
    "# non-numpy way\n",
    "# using 'random.choice'\n",
    "\n",
    "array = [-5,-4,-3,-2,-1,0,1,2,3,4,5]\n",
    "\n",
    "@jit\n",
    "def generate_random_numbers_between_neg5_and_pos5(M):\n",
    "    \n",
    "    random_array = []\n",
    "\n",
    "    for i in range(M):\n",
    "        random_pick = random.choice(array)\n",
    "        random_array.append(random_pick)\n",
    "    \n",
    "    plt.plot(random_array,\"o\")\n",
    "    plt.show()\n",
    "\n",
    "    plt.hist(random_array, bins=50)\n",
    "    plt.show()\n",
    "    \n",
    "    return len(random_array), random_array"
   ]
  },
  {
   "cell_type": "code",
   "execution_count": 328,
   "metadata": {},
   "outputs": [
    {
     "data": {
      "image/png": "[encoded data removed]",
      "text/plain": [
       "<Figure size 432x288 with 1 Axes>"
      ]
     },
     "metadata": {},
     "output_type": "display_data"
    },
    {
     "data": {
      "image/png": "[encoded data removed]",
      "text/plain": [
       "<Figure size 432x288 with 1 Axes>"
      ]
     },
     "metadata": {},
     "output_type": "display_data"
    },
    {
     "name": "stdout",
     "output_type": "stream",
     "text": [
      "(100, [-4, -4, -2, 3, 3, -1, -1, 0, -1, -5, 1, -1, 4, 3, -5, 2, 3, -4, -1, -1, -3, 4, 3, -5, 5, -1, -5, -2, 3, 3, -4, -1, -3, -4, -5, 4, 1, 1, -5, 1, -2, 3, -4, 4, -3, 2, 4, 1, -3, -4, -1, 5, 2, -1, 3, 5, -1, -1, 5, 3, 3, 2, -2, 2, 1, 4, 3, 4, 1, -3, -5, 5, -4, 0, -4, 5, 4, -4, 1, 3, -4, -4, -3, 1, 5, -4, 4, -4, 1, 4, -4, -2, 3, 1, -5, 0, 1, -1, -3, -1])\n"
     ]
    }
   ],
   "source": [
    "print(generate_random_numbers_between_neg5_and_pos5(100))"
   ]
  },
  {
   "cell_type": "code",
   "execution_count": null,
   "metadata": {},
   "outputs": [],
   "source": []
  }
 ],
 "metadata": {
  "kernelspec": {
   "display_name": "Python 3",
   "language": "python",
   "name": "python3"
  },
  "language_info": {
   "codemirror_mode": {
    "name": "ipython",
    "version": 3
   },
   "file_extension": ".py",
   "mimetype": "text/x-python",
   "name": "python",
   "nbconvert_exporter": "python",
   "pygments_lexer": "ipython3",
   "version": "3.6.5"
  }
 },
 "nbformat": 4,
 "nbformat_minor": 2
}
